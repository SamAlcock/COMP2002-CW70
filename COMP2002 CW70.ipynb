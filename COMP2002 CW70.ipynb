{
 "cells": [
  {
   "cell_type": "code",
   "execution_count": 10,
   "id": "5857910b",
   "metadata": {},
   "outputs": [
    {
     "name": "stdout",
     "output_type": "stream",
     "text": [
      "       X1     X2     X3      X4   X5  X6   X7  X8     Y1     Y2\n",
      "0    0.98  514.5  294.0  110.25  7.0   2  0.0   0  15.55  21.33\n",
      "1    0.98  514.5  294.0  110.25  7.0   3  0.0   0  15.55  21.33\n",
      "2    0.98  514.5  294.0  110.25  7.0   4  0.0   0  15.55  21.33\n",
      "3    0.98  514.5  294.0  110.25  7.0   5  0.0   0  15.55  21.33\n",
      "4    0.90  563.5  318.5  122.50  7.0   2  0.0   0  20.84  28.28\n",
      "..    ...    ...    ...     ...  ...  ..  ...  ..    ...    ...\n",
      "763  0.64  784.0  343.0  220.50  3.5   5  0.4   5  17.88  21.40\n",
      "764  0.62  808.5  367.5  220.50  3.5   2  0.4   5  16.54  16.88\n",
      "765  0.62  808.5  367.5  220.50  3.5   3  0.4   5  16.44  17.11\n",
      "766  0.62  808.5  367.5  220.50  3.5   4  0.4   5  16.48  16.61\n",
      "767  0.62  808.5  367.5  220.50  3.5   5  0.4   5  16.64  16.03\n",
      "\n",
      "[768 rows x 10 columns]\n",
      "[  0.36 294.   171.5  110.25   3.5    3.     0.4    5.  ]\n",
      "[1. 1. 1. 1. 1. 1. 1. 1.]\n"
     ]
    }
   ],
   "source": [
    "import pandas as pd\n",
    "import numpy as np\n",
    "from sklearn.decomposition import PCA\n",
    "from sklearn.ensemble import RandomForestRegressor\n",
    "from sklearn.preprocessing import MinMaxScaler\n",
    "from sklearn.model_selection import train_test_split\n",
    "from sklearn import metrics\n",
    "from sklearn.neural_network import MLPRegressor\n",
    "from sklearn.metrics import mean_absolute_error\n",
    "from sklearn.svm import SVR\n",
    "from sklearn.metrics import classification_report, confusion_matrix\n",
    "import matplotlib.pyplot as plt\n",
    "\n",
    "# Part 1 - Machine Learning - Data Preparation\n",
    "max_iter = 2000\n",
    "# Loading dataset. \n",
    "data = pd.read_excel('ENB2012_data.xlsx')\n",
    "print(data)\n",
    "\n",
    "# Extracting inputs.\n",
    "inputs = data.values[:,:8].astype(float)\n",
    "targets = data.values[:,8:].astype(float)\n",
    "\n",
    "# Projecting data into 2 dimensions with PCA.\n",
    "pca = PCA(n_components = 2)\n",
    "compressed = pca.fit_transform(inputs)\n",
    "\n",
    "# Scaling the data.\n",
    "scaler = MinMaxScaler()\n",
    "scaled = scaler.fit_transform(inputs)\n",
    "\n",
    "print(inputs.ptp(axis=0))\n",
    "print(scaled.ptp(axis=0))"
   ]
  },
  {
   "cell_type": "code",
   "execution_count": 11,
   "id": "0c088093",
   "metadata": {},
   "outputs": [
    {
     "data": {
      "image/png": "[encoded data removed]",
      "text/plain": [
       "<Figure size 432x288 with 1 Axes>"
      ]
     },
     "metadata": {
      "needs_background": "light"
     },
     "output_type": "display_data"
    }
   ],
   "source": [
    "# Part 1 - Machine Learning - Regression\n",
    "\n",
    "# Making training and testing data.\n",
    "X_train, X_test, y_train, y_test = train_test_split(compressed, targets, test_size = 0.2, random_state = 0)\n",
    "\n",
    "# Random Forest Regressor.\n",
    "def random_forest_regressor():\n",
    "    rfr = []\n",
    "    for i in range(100):\n",
    "        regressor = RandomForestRegressor()\n",
    "        regressor.fit(X_train, y_train)\n",
    "        y_pred = regressor.predict(X_test)\n",
    "        rfr.append(metrics.mean_squared_error(y_test, y_pred))\n",
    "    \n",
    "    plt.figure()\n",
    "    plt.boxplot(rfr)\n",
    "    plt.xlabel(\"Random Forest MSE\")\n",
    "    plt.ylabel(\"y\")\n",
    "    plt.show()\n",
    "\n",
    "random_forest_regressor()"
   ]
  },
  {
   "cell_type": "code",
   "execution_count": 16,
   "id": "ab47f4f9",
   "metadata": {},
   "outputs": [
    {
     "ename": "NameError",
     "evalue": "name 'rfr' is not defined",
     "output_type": "error",
     "traceback": [
      "\u001b[1;31m---------------------------------------------------------------------------\u001b[0m",
      "\u001b[1;31mNameError\u001b[0m                                 Traceback (most recent call last)",
      "Input \u001b[1;32mIn [16]\u001b[0m, in \u001b[0;36m<module>\u001b[1;34m\u001b[0m\n\u001b[0;32m     13\u001b[0m     plt\u001b[38;5;241m.\u001b[39mylabel(\u001b[38;5;124m\"\u001b[39m\u001b[38;5;124my\u001b[39m\u001b[38;5;124m\"\u001b[39m)\n\u001b[0;32m     14\u001b[0m     plt\u001b[38;5;241m.\u001b[39mshow()\n\u001b[1;32m---> 16\u001b[0m \u001b[43mneural_network\u001b[49m\u001b[43m(\u001b[49m\u001b[43m)\u001b[49m\n",
      "Input \u001b[1;32mIn [16]\u001b[0m, in \u001b[0;36mneural_network\u001b[1;34m()\u001b[0m\n\u001b[0;32m      8\u001b[0m     nn\u001b[38;5;241m.\u001b[39mappend(metrics\u001b[38;5;241m.\u001b[39mmean_squared_error(y_test, y_pred))\n\u001b[0;32m     10\u001b[0m plt\u001b[38;5;241m.\u001b[39mfigure()\n\u001b[1;32m---> 11\u001b[0m plt\u001b[38;5;241m.\u001b[39mboxplot(\u001b[43mrfr\u001b[49m)\n\u001b[0;32m     12\u001b[0m plt\u001b[38;5;241m.\u001b[39mxlabel(\u001b[38;5;124m\"\u001b[39m\u001b[38;5;124mNeural Network MSE\u001b[39m\u001b[38;5;124m\"\u001b[39m)\n\u001b[0;32m     13\u001b[0m plt\u001b[38;5;241m.\u001b[39mylabel(\u001b[38;5;124m\"\u001b[39m\u001b[38;5;124my\u001b[39m\u001b[38;5;124m\"\u001b[39m)\n",
      "\u001b[1;31mNameError\u001b[0m: name 'rfr' is not defined"
     ]
    },
    {
     "data": {
      "text/plain": [
       "<Figure size 432x288 with 0 Axes>"
      ]
     },
     "metadata": {},
     "output_type": "display_data"
    }
   ],
   "source": [
    "# Neural Network.\n",
    "def neural_network():\n",
    "    nn = []\n",
    "    for i in range(100):\n",
    "        regressor = MLPRegressor(max_iter = 1000)\n",
    "        regressor.fit(X_train, y_train)\n",
    "        y_pred = regressor.predict(X_test)\n",
    "        nn.append(metrics.mean_squared_error(y_test, y_pred))\n",
    "\n",
    "    plt.figure()\n",
    "    plt.boxplot(rfr)\n",
    "    plt.xlabel(\"Neural Network MSE\")\n",
    "    plt.ylabel(\"y\")\n",
    "    plt.show()\n",
    "    \n",
    "neural_network()"
   ]
  },
  {
   "cell_type": "code",
   "execution_count": null,
   "id": "215244f0",
   "metadata": {},
   "outputs": [],
   "source": [
    "# Support Vector Machine.\n",
    "def support_vector_machine(): \n",
    "    svm = []\n",
    "    for i in range(100):\n",
    "        svregressor = SVR()\n",
    "        svregressor.fit(X_train, y_train)\n",
    "        y_pred = svregressor.predict(X_test)\n",
    "        svm.append(metrics.mean_squared_error(y_test, y_pred))\n",
    "\n",
    "    print('Mean Squared Error - SVM:', svm)\n",
    "    \n",
    "support_vector_machine()"
   ]
  },
  {
   "cell_type": "code",
   "execution_count": null,
   "id": "debc72e9",
   "metadata": {},
   "outputs": [],
   "source": []
  },
  {
   "cell_type": "code",
   "execution_count": null,
   "id": "7bb0c6d0",
   "metadata": {},
   "outputs": [],
   "source": []
  },
  {
   "cell_type": "code",
   "execution_count": null,
   "id": "82b151e5",
   "metadata": {},
   "outputs": [],
   "source": []
  }
 ],
 "metadata": {
  "cells": [
   {
    "cell_type": "markdown",
    "metadata": {},
    "source": [
     "# COMP2002 Jupyter Notebook Template\n",
     "This template can be used for the weekly coding exercises, and for your coursework."
    ]
   },
   {
    "cell_type": "code",
    "execution_count": 1,
    "metadata": {},
    "outputs": [],
    "source": [
     "# Code goes here."
    ]
   }
  ],
  "kernelspec": {
   "display_name": "Python 3 (ipykernel)",
   "language": "python",
   "name": "python3"
  },
  "language_info": {
   "codemirror_mode": {
    "name": "ipython",
    "version": 3
   },
   "file_extension": ".py",
   "mimetype": "text/x-python",
   "name": "python",
   "nbconvert_exporter": "python",
   "pygments_lexer": "ipython3",
   "version": "3.10.2"
  },
  "metadata": {
   "kernelspec": {
    "display_name": "Python 3",
    "language": "python",
    "name": "python3"
   },
   "language_info": {
    "codemirror_mode": {
     "name": "ipython",
     "version": 3
    },
    "file_extension": ".py",
    "mimetype": "text/x-python",
    "name": "python",
    "nbconvert_exporter": "python",
    "pygments_lexer": "ipython3",
    "version": "3.6.7"
   }
  },
  "nbformat": 4,
  "nbformat_minor": 2
 },
 "nbformat": 4,
 "nbformat_minor": 5
}
