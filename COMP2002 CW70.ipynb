{
 "cells": [
  {
   "cell_type": "code",
   "execution_count": 1,
   "id": "5857910b",
   "metadata": {},
   "outputs": [
    {
     "name": "stdout",
     "output_type": "stream",
     "text": [
      "       X1     X2     X3      X4   X5  X6   X7  X8     Y1     Y2\n",
      "0    0.98  514.5  294.0  110.25  7.0   2  0.0   0  15.55  21.33\n",
      "1    0.98  514.5  294.0  110.25  7.0   3  0.0   0  15.55  21.33\n",
      "2    0.98  514.5  294.0  110.25  7.0   4  0.0   0  15.55  21.33\n",
      "3    0.98  514.5  294.0  110.25  7.0   5  0.0   0  15.55  21.33\n",
      "4    0.90  563.5  318.5  122.50  7.0   2  0.0   0  20.84  28.28\n",
      "..    ...    ...    ...     ...  ...  ..  ...  ..    ...    ...\n",
      "763  0.64  784.0  343.0  220.50  3.5   5  0.4   5  17.88  21.40\n",
      "764  0.62  808.5  367.5  220.50  3.5   2  0.4   5  16.54  16.88\n",
      "765  0.62  808.5  367.5  220.50  3.5   3  0.4   5  16.44  17.11\n",
      "766  0.62  808.5  367.5  220.50  3.5   4  0.4   5  16.48  16.61\n",
      "767  0.62  808.5  367.5  220.50  3.5   5  0.4   5  16.64  16.03\n",
      "\n",
      "[768 rows x 10 columns]\n",
      "[  0.36 294.   171.5  110.25   3.5    3.     0.4    5.  ]\n",
      "[1.         1.         1.00000191 1.         1.         1.\n",
      " 1.         1.        ]\n"
     ]
    }
   ],
   "source": [
    "import pandas as pd\n",
    "import numpy as np\n",
    "from sklearn.decomposition import PCA\n",
    "from sklearn.ensemble import RandomForestRegressor\n",
    "from sklearn.preprocessing import MinMaxScaler\n",
    "from sklearn.model_selection import train_test_split\n",
    "from sklearn import metrics\n",
    "from sklearn.neural_network import MLPRegressor\n",
    "from sklearn.metrics import mean_absolute_error\n",
    "from sklearn.model_selection import cross_val_score\n",
    "from sklearn.svm import SVR\n",
    "from sklearn.metrics import classification_report, confusion_matrix\n",
    "import matplotlib.pyplot as plt\n",
    "\n",
    "# PART 1 - MACHINE LEARNING\n",
    "# Task 1.1 - Data Preparation\n",
    "# Loading dataset. \n",
    "data = pd.read_excel('ENB2012_data.xlsx')\n",
    "print(data)\n",
    "\n",
    "# Extracting inputs.\n",
    "inputs = data.values[:,:8].astype(float)\n",
    "targets = data.values[:,8:].astype(float)\n",
    "\n",
    "# Projecting data into 2 dimensions with PCA.\n",
    "pca = PCA(n_components = 2)\n",
    "compressed = pca.fit_transform(inputs)\n",
    "\n",
    "# Scaling the data.\n",
    "scaler = MinMaxScaler()\n",
    "scaled = scaler.fit_transform(inputs)\n",
    "\n",
    "print(inputs.ptp(axis=0))\n",
    "print(scaled.ptp(axis=0))"
   ]
  },
  {
   "cell_type": "code",
   "execution_count": 2,
   "id": "77fae95e",
   "metadata": {},
   "outputs": [],
   "source": [
    "# Part 1 - Machine Learning - Regression\n",
    "\n",
    "# Making training and testing data.\n",
    "X_train, X_test, y_train, y_test = train_test_split(compressed, targets, test_size = 0.2, random_state = 0)"
   ]
  },
  {
   "cell_type": "code",
   "execution_count": 6,
   "id": "0c088093",
   "metadata": {},
   "outputs": [
    {
     "data": {
      "image/png": "[encoded data removed]",
      "text/plain": [
       "<Figure size 432x288 with 1 Axes>"
      ]
     },
     "metadata": {
      "needs_background": "light"
     },
     "output_type": "display_data"
    }
   ],
   "source": [
    "# Random Forest Regressor.\n",
    "def random_forest_regressor():\n",
    "    for i in range(100):\n",
    "        regressor = RandomForestRegressor()\n",
    "        regressor.fit(X_train, y_train)\n",
    "        y_pred = regressor.predict(X_test)\n",
    "        x_pred = regressor.predict(y_test)\n",
    "    train_scores = cross_val_score(regressor, X_train, y_train, cv = 10, scoring = \"neg_mean_squared_error\")\n",
    "    test_scores = cross_val_score(regressor, X_test, y_test, cv = 10, scoring = \"neg_mean_squared_error\")\n",
    "        \n",
    "    \n",
    "    plt.figure()\n",
    "    plt.title(\"Random Forest Cross Validation Score\")\n",
    "    plt.boxplot([abs(train_scores), abs(test_scores)])\n",
    "    plt.xticks([1, 2], [\"Train CVS\", \"Test CVS\"])\n",
    "    plt.ylabel(\"y\")\n",
    "    plt.show()\n",
    "\n",
    "random_forest_regressor()"
   ]
  },
  {
   "cell_type": "code",
   "execution_count": 7,
   "id": "ab47f4f9",
   "metadata": {},
   "outputs": [
    {
     "data": {
      "image/png": "[encoded data removed]",
      "text/plain": [
       "<Figure size 432x288 with 1 Axes>"
      ]
     },
     "metadata": {
      "needs_background": "light"
     },
     "output_type": "display_data"
    }
   ],
   "source": [
    "# Neural Network.\n",
    "def neural_network():\n",
    "    for i in range(100):\n",
    "        regressor = MLPRegressor(max_iter = 6000)\n",
    "        regressor.fit(X_train, y_train)\n",
    "        y_pred = regressor.predict(X_test)\n",
    "        x_pred = regressor.predict(y_test)\n",
    "    train_scores = cross_val_score(regressor, X_train, y_train, cv = 10, scoring = \"neg_mean_squared_error\")\n",
    "    test_scores = cross_val_score(regressor, X_test, y_test, cv = 10, scoring = \"neg_mean_squared_error\")\n",
    "\n",
    "    plt.figure()\n",
    "    plt.title(\"Neural Network Cross Validation Score\")\n",
    "    plt.boxplot([abs(train_scores), abs(test_scores)])\n",
    "    plt.xticks([1, 2], [\"Train CVS\", \"Test CVS\"])\n",
    "    plt.ylabel(\"y\")\n",
    "    plt.show()\n",
    "    \n",
    "neural_network()"
   ]
  },
  {
   "cell_type": "code",
   "execution_count": 9,
   "id": "215244f0",
   "metadata": {},
   "outputs": [
    {
     "data": {
      "image/png": "[encoded data removed]",
      "text/plain": [
       "<Figure size 432x288 with 1 Axes>"
      ]
     },
     "metadata": {
      "needs_background": "light"
     },
     "output_type": "display_data"
    }
   ],
   "source": [
    "# Support Vector Machine.\n",
    "def support_vector_machine(): \n",
    "    for i in range(100):\n",
    "        svregressor = SVR()\n",
    "        svregressor.fit(X_train, y_train[:, 0])\n",
    "        y_pred = svregressor.predict(X_test)\n",
    "        x_pred = svregressor.predict(y_test)\n",
    "        \n",
    "        svregressor_2 = SVR()\n",
    "        svregressor_2.fit(X_train, y_train[:, 1])\n",
    "        y_pred_2 = svregressor.predict(X_test)\n",
    "        x_pred_2 = svregressor.predict(y_test)\n",
    "        \n",
    "    train_scores = cross_val_score(svregressor, X_train, y_train[:, 0], cv = 10, scoring = \"neg_mean_squared_error\")\n",
    "    train_scores_2 = cross_val_score(svregressor, X_train, y_train[:, 1], cv = 10, scoring = \"neg_mean_squared_error\")\n",
    "    test_scores = cross_val_score(svregressor, X_test, y_test[:, 0], cv = 10, scoring = \"neg_mean_squared_error\")\n",
    "    test_scores_2 = cross_val_score(svregressor, X_test, y_test[:, 1], cv = 10, scoring = \"neg_mean_squared_error\")\n",
    "    \n",
    "    plt.figure()\n",
    "    plt.title(\"Support Vector Machine Cross Validation Score\")\n",
    "    plt.boxplot([abs(train_scores), abs(test_scores), abs(train_scores_2), abs(test_scores_2)])\n",
    "    plt.xticks([1, 2, 3, 4], [\"Train CVS\", \"Test CVS\", \"2nd Train CVS\", \"2nd Test CVS\"])\n",
    "    plt.ylabel(\"y\")\n",
    "    plt.show()\n",
    "    \n",
    "support_vector_machine()"
   ]
  },
  {
   "cell_type": "code",
   "execution_count": 56,
   "id": "debc72e9",
   "metadata": {
    "scrolled": true
   },
   "outputs": [
    {
     "name": "stdout",
     "output_type": "stream",
     "text": [
      "Concurrence constraints: 27\n",
      "Precedence constraints: 17\n",
      "\n",
      "Fitness: 459\n",
      "\n",
      "Lectures ['MOD002' 'MOD005' 'MOD006' 'MOD010' 'MOD003' 'MOD009' 'MOD017' 'MOD013'\n",
      " 'MOD008' 'MOD007' 'MOD001' 'MOD016' 'MOD004' 'MOD014' 'MOD012' 'MOD015'\n",
      " 'MOD011' None None None]\n",
      "\n",
      "Lab 1 ['MOD008' 'MOD006' 'MOD005' 'MOD001' 'MOD001' 'MOD008' 'MOD015' 'MOD009'\n",
      " 'MOD011' 'MOD003' 'MOD005' 'MOD002' None None None None None None None\n",
      " None]\n",
      "\n",
      "Lab 2 ['MOD003' 'MOD011' 'MOD015' 'MOD004' 'MOD009' 'MOD016' 'MOD013' 'MOD010'\n",
      " 'MOD010' 'MOD006' 'MOD012' 'MOD012' 'MOD014' 'MOD017' 'MOD014' 'MOD007'\n",
      " 'MOD009' 'MOD006' 'MOD002' None]\n",
      "\n"
     ]
    }
   ],
   "source": [
    "#PART 2 - OPTIMISATION\n",
    "import random\n",
    "# Task 2.1 - Generation of random solutions\n",
    "file = open('Modules.txt', 'r')\n",
    "contents = file.read()\n",
    "file.close()\n",
    "\n",
    "splitted = contents.split(\"\\n\")\n",
    "\n",
    "# Extracting clashes from text file.\n",
    "def get_clashes():\n",
    "    clashes = []\n",
    "    for i in range(len(splitted)):\n",
    "\n",
    "        clashes.append(splitted[i].split(\"|\"))\n",
    "        clashes[i].pop(0)\n",
    "        clashes[i].pop(0)\n",
    "        clashes[i].pop(0)\n",
    "\n",
    "\n",
    "    for i in range(len(clashes)):\n",
    "        clashes[i].append(clashes[i][0].split(\",\"))\n",
    "        clashes[i].pop(0)\n",
    "    \n",
    "    return clashes\n",
    "\n",
    "# Extracting number of labs for each module.\n",
    "def get_lab_number():\n",
    "    labs = []\n",
    "    int_labs = []\n",
    "    for i in range(len(splitted)):\n",
    "\n",
    "        labs.append(splitted[i].split(\"|\"))\n",
    "        labs[i].pop(0)\n",
    "        labs[i].pop(0)\n",
    "        labs[i].pop(1)\n",
    "        \n",
    "    for i in range(len(labs)):\n",
    "        int_labs.append(int(labs[i][0]))\n",
    "    return int_labs\n",
    "    \n",
    "# Extracting module name.\n",
    "def get_module_name():\n",
    "    module = np.array([])\n",
    "    for i in range(len(splitted)):\n",
    "        module = np.concatenate((module, splitted[i].split(\"|\")))\n",
    "        \n",
    "    module = module[0::4]\n",
    "    return module\n",
    "\n",
    "def lecture_lab_clash(lab, clashes, lecture):   \n",
    "    # Check for clashes.\n",
    "    c_constraints = 0\n",
    "    p_constraints = 0\n",
    "    if len(lab) < len(lecture):\n",
    "        count = len(lab)\n",
    "    else:\n",
    "        count = len(lecture)\n",
    "    \n",
    "    for i in range(count):\n",
    "        if lecture[i] == lab[i]:\n",
    "            c_constraints = c_constraints + 1\n",
    "        for j in range(i):\n",
    "            if j < i:\n",
    "                if lecture[i] == lab[j]: # if lab is before lecture\n",
    "                    p_constraints = p_constraints + 1\n",
    "                    break\n",
    "    \n",
    "    return c_constraints, p_constraints\n",
    "\n",
    "def module_clashes_array():\n",
    "    module = get_module_name()\n",
    "    clashes = get_clashes()\n",
    "\n",
    "    module = np.split(module, 17)\n",
    "    \n",
    "    for i in range(len(module)):\n",
    "        for j in range(len(clashes[i])):\n",
    "            module[i] = np.concatenate([module[i], clashes[i][j]])\n",
    "            \n",
    "    return module\n",
    "    \n",
    "def modules_clash(lab, clashes, lecture):\n",
    "    c_constraints = 0\n",
    "    module_and_clashes = module_clashes_array()\n",
    "    if len(lab) < len(lecture): # Finding the shortest array so the index won't be out of range\n",
    "        count = len(lab)\n",
    "    else:\n",
    "        count = len(lecture)\n",
    "      \n",
    "    # Find the matching module\n",
    "    for i in range(count):\n",
    "        for j in range(len(module_and_clashes)):      \n",
    "            if lecture[i] == module_and_clashes[j][0]:\n",
    "                if lab[i] is not None and lab[i] in module_and_clashes[j] and lab[i] != module_and_clashes[j][0]:\n",
    "                    c_constraints = c_constraints + 1\n",
    "                    #print(f\"Constraint found {lecture[i]} cannot be timetabled with {lab[i]}\\n\")\n",
    "                    break\n",
    "    return c_constraints\n",
    "\n",
    "\n",
    "def generate_lab_sessions(labs, module):\n",
    "    sessions = []\n",
    "    for i in range(len(module)):\n",
    "        for j in range(labs[i]):\n",
    "            sessions.append(module[i])\n",
    "            \n",
    "    return sessions\n",
    "\n",
    "def get_constraints_total(timetable, clashes):\n",
    "    c_constraints = [int] * 4\n",
    "    p_constraints = [int] * 2\n",
    "    total_c_constraints = 0\n",
    "    total_p_constraints = 0\n",
    "    \n",
    "    c_constraints[0], p_constraints[0] = lecture_lab_clash(timetable[1], clashes, timetable[0])\n",
    "    c_constraints[1], p_constraints[1] = lecture_lab_clash(timetable[2], clashes, timetable[0])\n",
    "    \n",
    "    c_constraints[2] = modules_clash(timetable[1], clashes, timetable[0])\n",
    "    c_constraints[3] = modules_clash(timetable[2], clashes, timetable[0])\n",
    "\n",
    "    for i in range(len(c_constraints)):\n",
    "        total_c_constraints = total_c_constraints + c_constraints[i]\n",
    "    \n",
    "    for i in range(len(p_constraints)):\n",
    "        total_p_constraints = total_p_constraints + p_constraints[i]\n",
    "        \n",
    "    return total_c_constraints, total_p_constraints\n",
    "            \n",
    "def generate_solution():\n",
    "    \n",
    "    clashes = get_clashes()\n",
    "    labs = get_lab_number()\n",
    "    module = get_module_name()\n",
    "    \n",
    "    lecture_theatre = []\n",
    "    lab_1 = []\n",
    "    lab_2 = []\n",
    "    \n",
    "    lab = generate_lab_sessions(labs, module)\n",
    "    \n",
    "    total_c_constraints = 0\n",
    "    total_p_constraints = 0\n",
    "    \n",
    "    # Assign lectures.\n",
    "    for i in range(len(module)):\n",
    "        \n",
    "        lecture_theatre.append(module[i])\n",
    "        \n",
    "\n",
    "    \n",
    "    # Assign labs.\n",
    "    for i in range(len(lab)):\n",
    "\n",
    "        lab_slot = np.random.randint(0,2)\n",
    "        if len(lab_1) >= 20:\n",
    "            lab_slot = 1\n",
    "        if len(lab_2) >= 20:\n",
    "            lab_slot = 0\n",
    "        if lab_slot == 0:\n",
    "            lab_1.append(lab[i])\n",
    "        elif lab_slot == 1:\n",
    "            lab_2.append(lab[i])\n",
    "    \n",
    "    # Shuffle the lectures and labs so the solution is random.\n",
    "    random.shuffle(lecture_theatre)\n",
    "    random.shuffle(lab_1)\n",
    "    random.shuffle(lab_2)\n",
    "    \n",
    "    # Put the sessions into the timetable array.\n",
    "    timetable = np.empty([3, 20], dtype = object)\n",
    "    for i in range(len(lecture_theatre)):\n",
    "        timetable[0][i] = lecture_theatre[i]\n",
    "    for i in range(len(lab_1)):\n",
    "        timetable[1][i] = lab_1[i]\n",
    "    for i in range(len(lab_2)):\n",
    "        timetable[2][i] = lab_2[i]\n",
    "    \n",
    "    total_c_constraints, total_p_constraints = get_constraints_total(timetable, clashes)\n",
    "    \n",
    "    # Calculate fitness function.\n",
    "    fitness = total_c_constraints * total_p_constraints\n",
    "    \n",
    "    print(f\"Concurrence constraints: {total_c_constraints}\")\n",
    "    print(f\"Precedence constraints: {total_p_constraints}\\n\")\n",
    "    print(f\"Fitness: {fitness}\\n\")\n",
    "    \n",
    "    print(f\"Lectures {timetable[0]}\\n\")\n",
    "    print(f\"Lab 1 {timetable[1]}\\n\")\n",
    "    print(f\"Lab 2 {timetable[2]}\\n\")\n",
    "    \n",
    "        \n",
    "\n",
    "generate_solution()\n",
    "\n",
    "\n"
   ]
  },
  {
   "cell_type": "code",
   "execution_count": null,
   "id": "82b151e5",
   "metadata": {},
   "outputs": [],
   "source": []
  },
  {
   "cell_type": "code",
   "execution_count": null,
   "id": "8aac23d5",
   "metadata": {},
   "outputs": [],
   "source": []
  },
  {
   "cell_type": "code",
   "execution_count": null,
   "id": "71999618",
   "metadata": {},
   "outputs": [],
   "source": []
  }
 ],
 "metadata": {
  "cells": [
   {
    "cell_type": "markdown",
    "metadata": {},
    "source": [
     "# COMP2002 Jupyter Notebook Template\n",
     "This template can be used for the weekly coding exercises, and for your coursework."
    ]
   },
   {
    "cell_type": "code",
    "execution_count": 1,
    "metadata": {},
    "outputs": [],
    "source": [
     "# Code goes here."
    ]
   }
  ],
  "kernelspec": {
   "display_name": "Python 3 (ipykernel)",
   "language": "python",
   "name": "python3"
  },
  "language_info": {
   "codemirror_mode": {
    "name": "ipython",
    "version": 3
   },
   "file_extension": ".py",
   "mimetype": "text/x-python",
   "name": "python",
   "nbconvert_exporter": "python",
   "pygments_lexer": "ipython3",
   "version": "3.10.2"
  },
  "metadata": {
   "kernelspec": {
    "display_name": "Python 3",
    "language": "python",
    "name": "python3"
   },
   "language_info": {
    "codemirror_mode": {
     "name": "ipython",
     "version": 3
    },
    "file_extension": ".py",
    "mimetype": "text/x-python",
    "name": "python",
    "nbconvert_exporter": "python",
    "pygments_lexer": "ipython3",
    "version": "3.6.7"
   }
  },
  "nbformat": 4,
  "nbformat_minor": 2
 },
 "nbformat": 4,
 "nbformat_minor": 5
}
